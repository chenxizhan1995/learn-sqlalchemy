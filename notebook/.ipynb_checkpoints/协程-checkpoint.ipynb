{
 "cells": [
  {
   "cell_type": "markdown",
   "metadata": {},
   "source": [
    "# 生成器和协程\n",
    "- 生成器 yield\n",
    "- 扩展生成器，使其具备协程的特性：生成器对象的各种方法\n",
    "- 如何驱动生成器的执行？事件循环，asyncio模块，await+async语法糖\n",
    "- 异步生成器 async def， yield\n",
    "- async，await\n",
    "\n",
    "Q. 当子迭代器结束时，其返回值会成为yield from 表达式的值。\n",
    "   那 send() 传进来的值怎么办？\n",
    "## 1.1. 生成器"
   ]
  },
  {
   "cell_type": "code",
   "execution_count": 1,
   "metadata": {
    "collapsed": true
   },
   "outputs": [
    {
     "name": "stdout",
     "output_type": "stream",
     "text": [
      "1\n",
      "2\n",
      "3\n",
      "--------------------\n",
      "1\n",
      "2\n",
      "3\n",
      "4\n",
      "********************\n",
      "1\n",
      "2\n",
      "3\n"
     ]
    }
   ],
   "source": [
    "# 先看个例子，来个直观感受\n",
    "# 如果函数体包含 yield 语句，则这个函数自动成为生成器函数（generator function）\n",
    "def gf1():\n",
    "    yield 1\n",
    "    yield 2\n",
    "    yield 3\n",
    "    return 4\n",
    "\n",
    "# 调用生成器函数返回的是一个生成器（generator）对象\n",
    "# 生成器对象实现了迭代协议，所以可以在for循环中遍历其元素：\n",
    "g=gf1()\n",
    "for i in g: print(i)\n",
    "print('--'*10)\n",
    "g2=gf1()\n",
    "# 也可以手动用next（）+StopIteration异常获取元素\n",
    "try:\n",
    "    print(next(g2))\n",
    "    print(next(g2))\n",
    "    print(next(g2))\n",
    "    print(next(g2))\n",
    "except StopIteration as e:\n",
    "    print(e.value)\n",
    "\n",
    "# 每个yield语句对应迭代器中的一个元素\n",
    "# return 语句的返回值对应 StopIteration 异常对象的 value\n",
    "\n",
    "# 还有个yield from 语法\n",
    "# 仅从迭代器的角度，这些就是生成器的所有知识点\n",
    "print('*'*20)\n",
    "def gf2():\n",
    "    yield from [1,2,3]\n",
    "for i in gf2(): print(i)\n",
    "    \n",
    "# yield from iter 等价于\n",
    "# for i in iter: yield i"
   ]
  },
  {
   "cell_type": "markdown",
   "metadata": {},
   "source": [
    "生成器不仅仅是迭代器，python 对它做了扩展，使之具备协程（coroutine）的大部分特性。\n"
   ]
  },
  {
   "cell_type": "markdown",
   "metadata": {},
   "source": [
    "## 1.2 生成器增强\n",
    "[PEP 342 -- Coroutines via Enhanced Generators | Python.org](https://www.python.org/dev/peps/pep-0342/#motivation)\n",
    "\n",
    "生成器有协程的影子--可以多次返回。\n",
    "而PEP342，对生成器做了些增强，\n",
    "- 改 yield 为表达式，而不是语句\n",
    "- 增加 send(), close(), throw()方法。\n",
    "PEP 342 有介绍生成器增强的驱动器。\n",
    "\n",
    "PEP 380 引入了 `yield from <expr>` 语法。\n"
   ]
  },
  {
   "cell_type": "markdown",
   "metadata": {},
   "source": [
    "## 1.3 协程\n"
   ]
  },
  {
   "cell_type": "code",
   "execution_count": 3,
   "metadata": {},
   "outputs": [
    {
     "name": "stdout",
     "output_type": "stream",
     "text": [
      "abc\n",
      "hello\n",
      "world\n",
      "efg\n"
     ]
    }
   ],
   "source": [
    "import asyncio as co\n",
    "\n",
    "async def hello():\n",
    "    print('hello')\n",
    "    await co.sleep(1)\n",
    "    print('world')\n",
    "\n",
    "print('abc')\n",
    "# co.run(hello())\n",
    "await hello()\n",
    "print('efg')"
   ]
  },
  {
   "cell_type": "markdown",
   "metadata": {},
   "source": [
    "## 3. 示例"
   ]
  },
  {
   "cell_type": "markdown",
   "metadata": {},
   "source": [
    "## 3.1 示例"
   ]
  },
  {
   "cell_type": "code",
   "execution_count": 2,
   "metadata": {
    "scrolled": true
   },
   "outputs": [],
   "source": [
    "import requests"
   ]
  },
  {
   "cell_type": "code",
   "execution_count": 3,
   "metadata": {
    "scrolled": true
   },
   "outputs": [
    {
     "name": "stdout",
     "output_type": "stream",
     "text": [
      "{'origin': '124.133.27.118'}\n"
     ]
    }
   ],
   "source": [
    "url='http://shanghai.chenxizhan.top'\n",
    "ret = requests.get(url + '/ip')\n",
    "print(ret.json())"
   ]
  },
  {
   "cell_type": "code",
   "execution_count": null,
   "metadata": {
    "scrolled": true
   },
   "outputs": [],
   "source": [
    "def timing_op(id, sec=3):\n",
    "    \"\"\" 一个耗时的网络操作\n",
    "    \"\"\"\n",
    "    ret = requests.get(url + '/delay/{}'.format(sec))\n",
    "    return id\n",
    "timing_op(3)"
   ]
  },
  {
   "cell_type": "code",
   "execution_count": null,
   "metadata": {
    "scrolled": true
   },
   "outputs": [],
   "source": [
    "import threading\n",
    "import asyncio\n",
    "\n",
    "# 写一个协程，调用耗时操作\n",
    "async def hello(id, sec=3):\n",
    "    print('Hello world! (%s)' % threading.currentThread())\n",
    "    timing_op(id, sec)\n",
    "    print('Hello world! (%s)' % threading.currentThread())\n",
    "# 放在事件循环中，驱动执行\n",
    "\n"
   ]
  },
  {
   "cell_type": "markdown",
   "metadata": {},
   "source": [
    "# 4. Demo"
   ]
  },
  {
   "cell_type": "markdown",
   "metadata": {},
   "source": [
    "如果生成器没有启动，就直接throw给他一个异常，会如何呢？\n",
    "Ans：等效于生成器函数没有捕获异常: 会把异常在抛会给调用者。"
   ]
  },
  {
   "cell_type": "code",
   "execution_count": 4,
   "metadata": {},
   "outputs": [
    {
     "name": "stdout",
     "output_type": "stream",
     "text": [
      "hello\n",
      "catch it\n"
     ]
    }
   ],
   "source": [
    "\n",
    "def gf():\n",
    "    print(\"generator function start.\")\n",
    "    yield 1\n",
    "    return 0\n",
    "\n",
    "g = gf()\n",
    "try:\n",
    "    print('hello')\n",
    "    g.throw(Exception)\n",
    "except:\n",
    "    print('catch it')"
   ]
  },
  {
   "cell_type": "markdown",
   "metadata": {},
   "source": [
    "Q. 如果调用 send() 或 next 的时候，生成器函数抛出了异常，会如何？\n",
    "\n",
    "Ans:会抛给调用者处理。"
   ]
  },
  {
   "cell_type": "code",
   "execution_count": 6,
   "metadata": {},
   "outputs": [
    {
     "name": "stdout",
     "output_type": "stream",
     "text": [
      "generator function start\n",
      "1\n",
      "catch it: hello\n"
     ]
    }
   ],
   "source": [
    "def gf():\n",
    "    print('generator function start')\n",
    "    yield 1\n",
    "    raise RuntimeError('hello')\n",
    "\n",
    "g = gf()\n",
    "try:\n",
    "    for i in g:print(i)\n",
    "except Exception as e:\n",
    "    print('catch it:', e)\n",
    "    "
   ]
  },
  {
   "cell_type": "markdown",
   "metadata": {},
   "source": [
    "Python语言规范中的例子："
   ]
  },
  {
   "cell_type": "code",
   "execution_count": 7,
   "metadata": {},
   "outputs": [
    {
     "name": "stdout",
     "output_type": "stream",
     "text": [
      "Execution starts when 'next()' is called for the first time.\n",
      "1\n",
      "None\n",
      "2\n",
      "Don't forget to clean up when 'close()' is called.\n"
     ]
    }
   ],
   "source": [
    "def echo(value=None):\n",
    "    print(\"Execution starts when 'next()' is called for the first time.\")\n",
    "    try:\n",
    "        while True:\n",
    "            try:\n",
    "                value = (yield value)\n",
    "            except Exception as e:\n",
    "                value = e\n",
    "    finally:\n",
    "        print(\"Don't forget to clean up when 'close()' is called.\")\n",
    "\n",
    "generator = echo(1)\n",
    "print(next(generator))\n",
    "\n",
    "\n",
    "print(next(generator))\n",
    "\n",
    "print(generator.send(2))\n",
    "\n",
    "generator.throw(TypeError, \"spam\")\n",
    "\n",
    "generator.close()"
   ]
  }
 ],
 "metadata": {
  "kernelspec": {
   "display_name": "Python 3",
   "language": "python",
   "name": "python3"
  },
  "language_info": {
   "codemirror_mode": {
    "name": "ipython",
    "version": 3
   },
   "file_extension": ".py",
   "mimetype": "text/x-python",
   "name": "python",
   "nbconvert_exporter": "python",
   "pygments_lexer": "ipython3",
   "version": "3.8.3"
  }
 },
 "nbformat": 4,
 "nbformat_minor": 4
}
