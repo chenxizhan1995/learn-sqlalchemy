{
 "cells": [
  {
   "cell_type": "markdown",
   "metadata": {},
   "source": [
    "data = (yield nonblocking_read(my_socket, nbytes))"
   ]
  },
  {
   "cell_type": "code",
   "execution_count": 11,
   "metadata": {},
   "outputs": [
    {
     "name": "stdout",
     "output_type": "stream",
     "text": [
      "#0000000000#\n"
     ]
    }
   ],
   "source": [
    "def nonblocking_read(src, nbytes):\n",
    "    yield '0'*nbytes\n",
    "\n",
    "def task():\n",
    "    data = (yield nonblocking_read(None, 10))\n",
    "    yield '#' + data + '#'\n",
    "\n",
    "def scheduler():\n",
    "    g = task()\n",
    "    tmp = next(g)\n",
    "    tmp_data = next(tmp)\n",
    "    data = g.send(tmp_data)\n",
    "    print(data)\n",
    "    \n",
    "scheduler()"
   ]
  },
  {
   "cell_type": "markdown",
   "metadata": {},
   "source": [
    "1. 关于 yield 的优先级，基本总是需要用括号，唯一的例外是\n",
    "唯一的例外是：顶级表达式的等号的右边。\n",
    "下面是合法的，\n",
    "```py\n",
    "x = yield 42\n",
    "x = yield\n",
    "x = 12 + (yield 42)\n",
    "x = 12 + (yield)\n",
    "foo(yield 42)\n",
    "foo(yield)\n",
    "```\n",
    "这些则是错误的。\n",
    "```py\n",
    "x = 12 + yield 42\n",
    "x = 12 + yield\n",
    "foo(yield 42, 12)\n",
    "foo(yield, 12)\n",
    "```\n",
    "\n",
    "\n",
    "2. 不带表达式的 yield 语句或 yield 表达式也是合法的，它生成一个 None 值，然后可以从外界接受值。"
   ]
  }
 ],
 "metadata": {
  "kernelspec": {
   "display_name": "Python 3",
   "language": "python",
   "name": "python3"
  },
  "language_info": {
   "codemirror_mode": {
    "name": "ipython",
    "version": 3
   },
   "file_extension": ".py",
   "mimetype": "text/x-python",
   "name": "python",
   "nbconvert_exporter": "python",
   "pygments_lexer": "ipython3",
   "version": "3.8.3"
  }
 },
 "nbformat": 4,
 "nbformat_minor": 4
}
