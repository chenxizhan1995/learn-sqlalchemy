{
 "cells": [
  {
   "cell_type": "code",
   "execution_count": null,
   "metadata": {},
   "outputs": [],
   "source": [
    "def fib():\n",
    "    \"\"\"\n",
    "    斐波那契数列，a1 = 1, a2=1, a[n] = a[n-1] + a[n-2]\n",
    "    \"\"\"\n",
    "    a, b = 0,1\n",
    "    while True :\n",
    "        yield b\n",
    "        a, b = b, a+b\n",
    "\n",
    "# 输入斐波那契数列的前 N 项\n",
    "N=10\n",
    "for i, m in enumerate(fib(), start = 1):\n",
    "    print('%02d: %d' %(i,m))\n",
    "    if i >= N: break"
   ]
  },
  {
   "cell_type": "markdown",
   "metadata": {},
   "source": [
    "正在执行的生成器不能在被唤醒"
   ]
  },
  {
   "cell_type": "code",
   "execution_count": null,
   "metadata": {},
   "outputs": [],
   "source": [
    "def gf():\n",
    "    i = next(me)\n",
    "    yield i\n",
    "\n",
    "me = gf()\n",
    "next(me)"
   ]
  },
  {
   "cell_type": "code",
   "execution_count": null,
   "metadata": {},
   "outputs": [],
   "source": [
    "import secrets as sc\n",
    "def gf():\n",
    "    try:\n",
    "        if sc.choice([True, False]): raise StopIteration\n",
    "        else: return\n",
    "    except:\n",
    "        yield 1\n",
    "\n",
    "g = gf()\n",
    "print(g)"
   ]
  }
 ],
 "metadata": {
  "kernelspec": {
   "display_name": "Python 3",
   "language": "python",
   "name": "python3"
  },
  "language_info": {
   "codemirror_mode": {
    "name": "ipython",
    "version": 3
   },
   "file_extension": ".py",
   "mimetype": "text/x-python",
   "name": "python",
   "nbconvert_exporter": "python",
   "pygments_lexer": "ipython3",
   "version": "3.8.3"
  }
 },
 "nbformat": 4,
 "nbformat_minor": 4
}
